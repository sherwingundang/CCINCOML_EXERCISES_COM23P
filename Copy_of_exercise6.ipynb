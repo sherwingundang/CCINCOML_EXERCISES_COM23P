{
  "nbformat": 4,
  "nbformat_minor": 0,
  "metadata": {
    "colab": {
      "provenance": [],
      "collapsed_sections": [
        "FKj-F10WsctE"
      ],
      "include_colab_link": true
    },
    "kernelspec": {
      "name": "python3",
      "display_name": "Python 3"
    },
    "language_info": {
      "name": "python"
    }
  },
  "cells": [
    {
      "cell_type": "markdown",
      "metadata": {
        "id": "view-in-github",
        "colab_type": "text"
      },
      "source": [
        "<a href=\"https://colab.research.google.com/github/sherwingundang/CCINCOML_EXERCISES_COM23P/blob/main/Copy_of_exercise6.ipynb\" target=\"_parent\"><img src=\"https://colab.research.google.com/assets/colab-badge.svg\" alt=\"Open In Colab\"/></a>"
      ]
    },
    {
      "cell_type": "markdown",
      "source": [
        "# Exercise 6"
      ],
      "metadata": {
        "id": "2YKNSy_M9wSB"
      }
    },
    {
      "cell_type": "markdown",
      "source": [
        "## Lists"
      ],
      "metadata": {
        "id": "waosO4TAeA-S"
      }
    },
    {
      "cell_type": "markdown",
      "source": [
        "1. Create a list\n",
        "\n",
        "- The name of the new list should be  `month`\n",
        "\n",
        "- The list should contain all the months in a year (January, February, March, April, May, June, July, August, September, October, November, December)"
      ],
      "metadata": {
        "id": "AW0H1ylt3H9g"
      }
    },
    {
      "cell_type": "code",
      "execution_count": null,
      "metadata": {
        "id": "3a9CllzZ28_6"
      },
      "outputs": [],
      "source": [
        "# put your answer here\n",
        "\n",
        "list_of_month = ['january', 'february', 'march', 'april', 'may', 'june', 'july', 'august', 'september', 'october', 'november', 'december']"
      ]
    },
    {
      "cell_type": "markdown",
      "source": [
        "2. Display an element\n",
        "\n",
        "- Display the fourth element 'April' in the `month` list"
      ],
      "metadata": {
        "id": "lDgi4WMA3UDM"
      }
    },
    {
      "cell_type": "code",
      "source": [
        "# put your answer here\n",
        "\n",
        "list_of_month [3]"
      ],
      "metadata": {
        "id": "-K4Umghk34X3",
        "colab": {
          "base_uri": "https://localhost:8080/",
          "height": 35
        },
        "outputId": "d3dd9fd9-b27c-4817-8197-efb3160c1976"
      },
      "execution_count": null,
      "outputs": [
        {
          "output_type": "execute_result",
          "data": {
            "text/plain": [
              "'april'"
            ],
            "application/vnd.google.colaboratory.intrinsic+json": {
              "type": "string"
            }
          },
          "metadata": {},
          "execution_count": 5
        }
      ]
    },
    {
      "cell_type": "markdown",
      "source": [
        "3. Slice the list\n",
        "\n",
        "- Use slicing to get the last 4 months of the year of (September, October, November, December) of the `month` list"
      ],
      "metadata": {
        "id": "2sgJy-_C4N8b"
      }
    },
    {
      "cell_type": "code",
      "source": [
        "# put your answer here\n",
        "list_of_month [8:]"
      ],
      "metadata": {
        "id": "xARijZmm4bp2",
        "colab": {
          "base_uri": "https://localhost:8080/"
        },
        "outputId": "3a81e61a-4b7b-4dad-e16e-bb876e648d19"
      },
      "execution_count": null,
      "outputs": [
        {
          "output_type": "execute_result",
          "data": {
            "text/plain": [
              "['september', 'october', 'november', 'december']"
            ]
          },
          "metadata": {},
          "execution_count": 8
        }
      ]
    },
    {
      "cell_type": "markdown",
      "source": [
        "- Use slicing to get the first 4 months of the year (January, February, March, April) of the `month` list"
      ],
      "metadata": {
        "id": "ZNYReiVbp4qN"
      }
    },
    {
      "cell_type": "code",
      "source": [
        "# put your answer here\n",
        "list_of_month [:4]"
      ],
      "metadata": {
        "id": "5QEm97VXp5Bi",
        "colab": {
          "base_uri": "https://localhost:8080/"
        },
        "outputId": "b3278f0c-7710-4fe8-da0b-482327216955"
      },
      "execution_count": null,
      "outputs": [
        {
          "output_type": "execute_result",
          "data": {
            "text/plain": [
              "['january', 'february', 'march', 'april']"
            ]
          },
          "metadata": {},
          "execution_count": 10
        }
      ]
    },
    {
      "cell_type": "markdown",
      "source": [
        "4. List Methods\n",
        "\n",
        "- Get the size of the month list using the `len()` method"
      ],
      "metadata": {
        "id": "wZBoOGlh4zf9"
      }
    },
    {
      "cell_type": "code",
      "source": [
        "# put your answer here\n",
        "print(len(list_of_month))"
      ],
      "metadata": {
        "id": "0xoFuFFw48AX",
        "colab": {
          "base_uri": "https://localhost:8080/"
        },
        "outputId": "dc69c883-d801-497c-92af-b8e7474ee3d3"
      },
      "execution_count": null,
      "outputs": [
        {
          "output_type": "stream",
          "name": "stdout",
          "text": [
            "12\n"
          ]
        }
      ]
    },
    {
      "cell_type": "markdown",
      "source": [
        "- Get the element with the largest value of the month list using `max()`"
      ],
      "metadata": {
        "id": "P5bCjc8Xq4Fd"
      }
    },
    {
      "cell_type": "code",
      "source": [
        "# put your answer here\n",
        "print (max(list_of_month))"
      ],
      "metadata": {
        "id": "Yp3BmlEQq4k7",
        "colab": {
          "base_uri": "https://localhost:8080/"
        },
        "outputId": "3c932c57-9a4e-46d4-a15f-f97f8cdb9a5e"
      },
      "execution_count": null,
      "outputs": [
        {
          "output_type": "stream",
          "name": "stdout",
          "text": [
            "september\n"
          ]
        }
      ]
    },
    {
      "cell_type": "markdown",
      "source": [
        "- Get the element with the smallest value of the month list using `min()`"
      ],
      "metadata": {
        "id": "dGXbdxgJq5HC"
      }
    },
    {
      "cell_type": "code",
      "source": [
        "# put your answer here\n",
        "print(min(list_of_month))"
      ],
      "metadata": {
        "id": "2CIePRDMq5aN",
        "colab": {
          "base_uri": "https://localhost:8080/"
        },
        "outputId": "32295d10-c318-44c8-d24b-23a48fe5f355"
      },
      "execution_count": null,
      "outputs": [
        {
          "output_type": "stream",
          "name": "stdout",
          "text": [
            "april\n"
          ]
        }
      ]
    },
    {
      "cell_type": "markdown",
      "source": [
        "- Sort the months of the year by alphabetical order using the `sorted()` function"
      ],
      "metadata": {
        "id": "rmnq1YbHta7L"
      }
    },
    {
      "cell_type": "code",
      "source": [
        "# put your answer here\n",
        "print(sorted(list_of_month))"
      ],
      "metadata": {
        "id": "EBB3CLFGtbKg",
        "colab": {
          "base_uri": "https://localhost:8080/"
        },
        "outputId": "1652258d-84f1-4b3f-abd6-34154f5c8dce"
      },
      "execution_count": null,
      "outputs": [
        {
          "output_type": "stream",
          "name": "stdout",
          "text": [
            "['april', 'august', 'december', 'february', 'january', 'july', 'june', 'march', 'may', 'november', 'october', 'september']\n"
          ]
        }
      ]
    },
    {
      "cell_type": "markdown",
      "source": [
        "## Tuple"
      ],
      "metadata": {
        "id": "R4Rkhy42sWQc"
      }
    },
    {
      "cell_type": "markdown",
      "source": [
        "1. Create a tuple with only three elements, the elements are:\n",
        "\n",
        "- Your month of birth in integers\n",
        "- Your day of birth in integers\n",
        "- Your year of birth in integers\n",
        "\n",
        "Use tuple unpacking to directly assign the month, day, year variable to each elements in your tuple."
      ],
      "metadata": {
        "id": "0qdb8lX53Iux"
      }
    },
    {
      "cell_type": "code",
      "source": [
        "# put your answer here\n",
        "number = 9, 3, 2001\n",
        "month, day, year = number\n",
        "print(number)"
      ],
      "metadata": {
        "id": "E14Lb0Y0wwzL",
        "colab": {
          "base_uri": "https://localhost:8080/"
        },
        "outputId": "55afa2a2-5c40-4b7f-dbb2-c18c013be5b2"
      },
      "execution_count": null,
      "outputs": [
        {
          "output_type": "stream",
          "name": "stdout",
          "text": [
            "(9, 3, 2001)\n"
          ]
        }
      ]
    },
    {
      "cell_type": "markdown",
      "source": [
        "1. The list below contains a number of a products of a computer store. Notice that there are duplicate values."
      ],
      "metadata": {
        "id": "PxFhHDRg2zXs"
      }
    },
    {
      "cell_type": "code",
      "source": [
        "products = [\"laptop\", \"smartphone\", \"tablet\", \"mouse\" ,\"powerbank\", \"headphones\", \"laptop\", \"speakers\", \"printer\", \"monitor\", \"projector\", \"mouse\", \"keyboard\"]"
      ],
      "metadata": {
        "id": "WXYdz82fxpdU"
      },
      "execution_count": null,
      "outputs": []
    },
    {
      "cell_type": "markdown",
      "source": [
        "The difference between a list and a set is that a list allows duplicate values. One way to remove duplicates is to convert a list into a set.\n",
        "\n",
        "Convert the `products` list into a set"
      ],
      "metadata": {
        "id": "vr-5xd3f2Vgn"
      }
    },
    {
      "cell_type": "code",
      "source": [
        "# put your answer here\n",
        "products = [\"laptop\", \"smartphone\", \"tablet\", \"mouse\" ,\"powerbank\", \"headphones\", \"laptop\", \"speakers\", \"printer\", \"monitor\", \"projector\", \"mouse\", \"keyboard\"]\n",
        "unique_products = set(products)\n",
        "print(unique_products)"
      ],
      "metadata": {
        "id": "Z_Ao388J2f50",
        "colab": {
          "base_uri": "https://localhost:8080/"
        },
        "outputId": "44d3b8bc-6095-4de7-fc28-1fa8b9144d68"
      },
      "execution_count": null,
      "outputs": [
        {
          "output_type": "stream",
          "name": "stdout",
          "text": [
            "{'projector', 'laptop', 'tablet', 'mouse', 'headphones', 'keyboard', 'speakers', 'powerbank', 'smartphone', 'monitor', 'printer'}\n"
          ]
        }
      ]
    },
    {
      "cell_type": "markdown",
      "source": [
        "2. Verify if \"headphones\" exists in the `products` set  using the `in` operator"
      ],
      "metadata": {
        "id": "d9fOZL4g3a9t"
      }
    },
    {
      "cell_type": "code",
      "source": [
        "# put your answer here\n",
        "print (\"headphones\" in unique_products)"
      ],
      "metadata": {
        "id": "ETJJFv-u3b23",
        "colab": {
          "base_uri": "https://localhost:8080/"
        },
        "outputId": "c2ff1f01-7f84-4128-89ff-0e31513a84ac"
      },
      "execution_count": null,
      "outputs": [
        {
          "output_type": "stream",
          "name": "stdout",
          "text": [
            "True\n"
          ]
        }
      ]
    },
    {
      "cell_type": "markdown",
      "source": [
        "## Dictionaries"
      ],
      "metadata": {
        "id": "FKj-F10WsctE"
      }
    },
    {
      "cell_type": "markdown",
      "source": [
        "Create a dictionary of your favorites\n",
        "Keys should be the type\n",
        "Values should be the sample from that type\n",
        "Example:\n",
        "\n",
        "food: friedchicken\n",
        "\n",
        "color: blue\n",
        "\n",
        "sport: badminton\n",
        "\n",
        "drink: mangojuice\n",
        "\n",
        "dessert: cheesetart"
      ],
      "metadata": {
        "id": "Ngb3jngNP1-I"
      }
    },
    {
      "cell_type": "code",
      "source": [
        "# put your answer here\n",
        "favorite = {\"Food\": 'Sisig', \"Color\": 'black', \"Sport\": 'Bassketball', \"Drinks\": 'calamansi juice', \"Dessert\": 'Icecream'}\n",
        "print (favorite)"
      ],
      "metadata": {
        "id": "8lrrq4xT3Zww",
        "colab": {
          "base_uri": "https://localhost:8080/"
        },
        "outputId": "5e2c3364-bfa5-49e4-9401-451a1eeb033b"
      },
      "execution_count": null,
      "outputs": [
        {
          "output_type": "stream",
          "name": "stdout",
          "text": [
            "{'Food': 'Sisig', 'Color': 'black', 'Sport': 'Bassketball', 'Drinks': 'calamansi juice', 'Dessert': 'Icecream'}\n"
          ]
        }
      ]
    },
    {
      "cell_type": "markdown",
      "source": [
        "## Loops"
      ],
      "metadata": {
        "id": "cbsI1vwD1nI7"
      }
    },
    {
      "cell_type": "markdown",
      "source": [
        "1. Write a for loop to iterate all elements of the `month` list. Print each element for every iteration."
      ],
      "metadata": {
        "id": "VV429-WhDmzU"
      }
    },
    {
      "cell_type": "code",
      "source": [
        "# put your answer here\n",
        "months = ['january', 'february', 'march', 'april', 'may', 'june', 'july', 'august', 'september', 'october', 'november', 'december']\n",
        "for month in months:\n",
        "  print(month)\n",
        "\n"
      ],
      "metadata": {
        "id": "Ki5-XrM_DnNp",
        "colab": {
          "base_uri": "https://localhost:8080/"
        },
        "outputId": "a529b27a-ef49-447d-e3e0-a3969e724bfc"
      },
      "execution_count": null,
      "outputs": [
        {
          "output_type": "stream",
          "name": "stdout",
          "text": [
            "january\n",
            "february\n",
            "march\n",
            "april\n",
            "may\n",
            "june\n",
            "july\n",
            "august\n",
            "september\n",
            "october\n",
            "november\n",
            "december\n"
          ]
        }
      ]
    },
    {
      "cell_type": "markdown",
      "source": [
        "2. Write a for loop and add a condition to only display the elements in the `month` list that ends with \"ber\""
      ],
      "metadata": {
        "id": "XaezrcWxEEQd"
      }
    },
    {
      "cell_type": "code",
      "source": [
        "# put your answer here\n",
        "for month in months:\n",
        "  if month.find(\"ber\") > 0:\n",
        "   print(month)\n"
      ],
      "metadata": {
        "id": "LR4utW6rEEm1",
        "colab": {
          "base_uri": "https://localhost:8080/"
        },
        "outputId": "87953a4e-8495-42b8-e411-7435b3233653"
      },
      "execution_count": null,
      "outputs": [
        {
          "output_type": "stream",
          "name": "stdout",
          "text": [
            "september\n",
            "october\n",
            "november\n",
            "december\n"
          ]
        }
      ]
    },
    {
      "cell_type": "markdown",
      "source": [
        "3. Write a for loop and add a condition to only display the elements in the `month` list that does not end with \"ber\""
      ],
      "metadata": {
        "id": "WcBRUEaFFHWf"
      }
    },
    {
      "cell_type": "code",
      "source": [
        "# put your answer here\n",
        "months = ['january', 'february', 'march', 'april', 'may', 'june', 'july', 'august', 'september', 'october', 'november', 'december']\n",
        "for months in months:\n",
        "  if not months.find(\"ber\") :\n",
        "   print(months)"
      ],
      "metadata": {
        "id": "Bw5D0HLNFHrs"
      },
      "execution_count": null,
      "outputs": []
    },
    {
      "cell_type": "markdown",
      "source": [
        "4. Write a for loop and use `range()` to display your firstname five times"
      ],
      "metadata": {
        "id": "gpvQU9hfF0TF"
      }
    },
    {
      "cell_type": "code",
      "source": [
        "# put your answer here\n",
        "for i in range(5):\n",
        "  print(\"sherwin\")"
      ],
      "metadata": {
        "id": "o-NhO5_nF0hN",
        "colab": {
          "base_uri": "https://localhost:8080/"
        },
        "outputId": "2dbbea51-35a3-4375-a213-dc9978d5097a"
      },
      "execution_count": null,
      "outputs": [
        {
          "output_type": "stream",
          "name": "stdout",
          "text": [
            "sherwin\n",
            "sherwin\n",
            "sherwin\n",
            "sherwin\n",
            "sherwin\n"
          ]
        }
      ]
    },
    {
      "cell_type": "markdown",
      "source": [
        "5. Write a for loop that iterates over the names list to create a usernames list.\n",
        "\n",
        "To create a username for each name, make everything lowercase and replace spaces with underscores. Running your for loop over the list:\n",
        "\n",
        "Example:\n",
        "\n",
        "names = [\"Joey Tribbiani\", \"Monica Geller\", \"Chandler Bing\", \"Phoebe Buffay\"]\n",
        "\n",
        "should create a new list\n",
        "\n",
        "usernames = [\"joey_tribbiani\", \"monica_geller\", \"chandler_bing\", \"phoebe_buffay\"]"
      ],
      "metadata": {
        "id": "VLcFGqI9GUic"
      }
    },
    {
      "cell_type": "code",
      "source": [
        "# put your answer here\n",
        "names = ['Sherwin', 'Gervy', 'Arch', 'Jade']\n",
        "username = []\n",
        "\n",
        "for i in  names :\n",
        "  username.append(i.lower().replace(\"\", \"_\"))\n",
        "\n"
      ],
      "metadata": {
        "id": "IqqiHcX_GUzw"
      },
      "execution_count": 100,
      "outputs": []
    },
    {
      "cell_type": "code",
      "source": [
        "print(username)"
      ],
      "metadata": {
        "colab": {
          "base_uri": "https://localhost:8080/"
        },
        "id": "Dl8t2VadiOYw",
        "outputId": "feb1b2dd-ca22-4eff-b9b4-9d0a906140d5"
      },
      "execution_count": 101,
      "outputs": [
        {
          "output_type": "stream",
          "name": "stdout",
          "text": [
            "['_s_h_e_r_w_i_n_', '_g_e_r_v_y_', '_a_r_c_h_', '_j_a_d_e_']\n"
          ]
        }
      ]
    },
    {
      "cell_type": "markdown",
      "source": [
        "6. Write a while loop to iterate throught the `month` list\n",
        "\n",
        "- Break the loop if the element ends with \"ber\""
      ],
      "metadata": {
        "id": "6OPeRpAtI10D"
      }
    },
    {
      "cell_type": "code",
      "source": [
        "# put your answer here\n",
        "month = ['january', 'february', 'march', 'april', 'may', 'june', 'july', 'august', 'september', 'october', 'november', 'december']\n",
        "\n",
        "counter = 0\n",
        "while counter < len(month):\n",
        "  print(month[counter])\n",
        "  counter = counter + 1\n",
        "  if month[counter].find('ber') > 0:\n",
        "      break\n",
        "\n"
      ],
      "metadata": {
        "id": "0sDyOhMXI2TX",
        "colab": {
          "base_uri": "https://localhost:8080/"
        },
        "outputId": "e2409a6f-f73c-4411-ebb9-273afe8ee426"
      },
      "execution_count": 118,
      "outputs": [
        {
          "output_type": "stream",
          "name": "stdout",
          "text": [
            "january\n",
            "february\n",
            "march\n",
            "april\n",
            "may\n",
            "june\n",
            "july\n",
            "august\n"
          ]
        }
      ]
    },
    {
      "cell_type": "markdown",
      "source": [
        "## Functions"
      ],
      "metadata": {
        "id": "-UGI_QgO1h07"
      }
    },
    {
      "cell_type": "markdown",
      "source": [
        "1. Write a python function named population_density that takes two arguments, population and land_area, and returns a population density calculated from those values.\n",
        "\n",
        "The population density can be calculated using this formula:\n",
        "\n",
        "population_density = population/land_area"
      ],
      "metadata": {
        "id": "f4bjOx-C1jar"
      }
    },
    {
      "cell_type": "code",
      "source": [
        "# put your answer here\n",
        "def population_density(population, land_area):\n",
        "     return population / land_area\n"
      ],
      "metadata": {
        "id": "GJVkPniMLD82"
      },
      "execution_count": 99,
      "outputs": []
    },
    {
      "cell_type": "code",
      "source": [
        "population_density(232324, 12131)"
      ],
      "metadata": {
        "colab": {
          "base_uri": "https://localhost:8080/"
        },
        "id": "WmH0IxlhhtGC",
        "outputId": "0189b01a-e8d2-432b-cbcf-5ef48d547d28"
      },
      "execution_count": 98,
      "outputs": [
        {
          "output_type": "execute_result",
          "data": {
            "text/plain": [
              "19.15126535322727"
            ]
          },
          "metadata": {},
          "execution_count": 98
        }
      ]
    },
    {
      "cell_type": "markdown",
      "source": [
        "2. Write an `averagesteps()` function to compute the average the number of steps you take every day.\n",
        "\n",
        "- The function should accept a list and compute the average of all elements inside the list\n",
        "\n",
        "- Create a list with seven elements. The values in the list are your average steps your take everyday.\n",
        "\n",
        "- Pass the list to the function and call the function"
      ],
      "metadata": {
        "id": "DEryE1965T3U"
      }
    },
    {
      "cell_type": "code",
      "source": [
        "# put your answer here\n",
        "mysteps = [5600, 2000, 4000, 1000, 5000, 2000, 140]\n"
      ],
      "metadata": {
        "id": "TzhnugYU6D-6"
      },
      "execution_count": 112,
      "outputs": []
    },
    {
      "cell_type": "code",
      "source": [
        "def averagesteps(stepslist):\n",
        "    sum = 0\n",
        "    for i in stepslist:\n",
        "      sum = sum + i\n",
        "      avg = sum /7\n",
        "      return avg"
      ],
      "metadata": {
        "id": "xDGQvTf9jC8q"
      },
      "execution_count": 111,
      "outputs": []
    },
    {
      "cell_type": "code",
      "source": [
        "averagesteps(mysteps)"
      ],
      "metadata": {
        "colab": {
          "base_uri": "https://localhost:8080/"
        },
        "id": "FtuE5JRmjXLO",
        "outputId": "15077d9f-932b-4446-ae9c-f4622b83d9c3"
      },
      "execution_count": 113,
      "outputs": [
        {
          "output_type": "execute_result",
          "data": {
            "text/plain": [
              "800.0"
            ]
          },
          "metadata": {},
          "execution_count": 113
        }
      ]
    }
  ]
}